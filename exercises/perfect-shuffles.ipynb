{
 "cells": [
  {
   "attachments": {},
   "cell_type": "markdown",
   "id": "cc297ba2",
   "metadata": {},
   "source": [
    "## Exercises: Perfect Shuffles\n",
    "\n",
    "----\n",
    "\n",
    "Burton Rosenberg\n",
    "\n",
    "University of Miami\n",
    "\n",
    "copyright 2023 burton rosenberg all rights reserved\n",
    "\n",
    "\n",
    "----\n",
    "\n",
    "\n",
    "A perfect shuffle is when the cards during a shuffle alternate perfectly: one from the left hand, one from the right hand, one from the left hand, and so on. Only a magician can perform a perfect shuffle, it requires such slight of hand. And only a mathematician can wonder what are the properties of a perfect shuffle? Does it, for instance, return the deck back to the original order after a certain, perhaps small, number of shuffles\n",
    "\n",
    "The question was considered by someone who is both a mathematician and a magicina, Persi Diaconns.\n",
    "\n",
    "In this exercise in slices, we will simulate a perfect shuffle and answer the question of how many perfect shuffles return the deck to the original order. The trick to the problem is to work backwards. Rather than considering a shuffle, simulate the un-shuffle, which would alternately take cards backwards from the finished shuffle, and stack the two halves and a backward cut.\n"
   ]
  },
  {
   "cell_type": "code",
   "execution_count": 1,
   "id": "1524eaf6",
   "metadata": {},
   "outputs": [
    {
     "name": "stdout",
     "output_type": "stream",
     "text": [
      "broken!\n"
     ]
    }
   ],
   "source": [
    "\n",
    "def perfect_shuffle(deck):\n",
    "    \"\"\"\n",
    "    reverse shuffle in place (update the values in the list deck)\n",
    "    \"\"\"\n",
    "    return deck\n",
    "\n",
    "def n_perfect_shuffle(m):\n",
    "    \"\"\"\n",
    "    answers the question: how many perfect shuffles on\n",
    "    a deck of m cards returns the deck to the original order\n",
    "    \"\"\"\n",
    "    deck = [i for i in range(m)]\n",
    "    deck_org = deck[:]\n",
    "    count = 0\n",
    "    # a while loop until deck comes back to deck_org, perhaps?\n",
    "    # (it is obvious that a long enough sequence of shuffles must\n",
    "    # return to some shuffling. why must it return the the original\n",
    "    # order?)\n",
    "    return count\n",
    "    \n",
    "def test_perfect_shuffle():\n",
    "    ans = [0, 2, 4, 6, 1, 3, 5, 7]\n",
    "    if perfect_shuffle([i for i in range(8)]) != ans:\n",
    "        print(\"broken!\")\n",
    "        return\n",
    "    \n",
    "    # for a deck of 2^i cards, i perfect shuffles return the deck\n",
    "    j = 8\n",
    "    for i in range(3,6):\n",
    "        if n_perfect_shuffle(j)!=i:\n",
    "            print(\"broken!\")\n",
    "            return\n",
    "        j *= 2\n",
    "        \n",
    "    # how many perfects shuffles for an actual deck\n",
    "    if n_perfect_shuffle(52)!=8:\n",
    "        print(\"broken!\")\n",
    "    else:\n",
    "        print(\"correct!\")\n",
    "\n",
    "test_perfect_shuffle()\n"
   ]
  },
  {
   "attachments": {},
   "cell_type": "markdown",
   "id": "1909313a",
   "metadata": {},
   "source": [
    "\n",
    "__Challenge problem__ \n",
    "\n",
    "Smaug the dragon is clever enough to use his tail for a 3 hand perfect shuffle. What are the results for this shuffle?\n",
    "\n"
   ]
  }
 ],
 "metadata": {
  "kernelspec": {
   "display_name": "Python 3 (ipykernel)",
   "language": "python",
   "name": "python3"
  },
  "language_info": {
   "codemirror_mode": {
    "name": "ipython",
    "version": 3
   },
   "file_extension": ".py",
   "mimetype": "text/x-python",
   "name": "python",
   "nbconvert_exporter": "python",
   "pygments_lexer": "ipython3",
   "version": "3.9.7"
  }
 },
 "nbformat": 4,
 "nbformat_minor": 5
}
