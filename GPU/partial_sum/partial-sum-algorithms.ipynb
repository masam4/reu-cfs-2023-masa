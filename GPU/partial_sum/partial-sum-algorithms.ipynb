{
 "cells": [
  {
   "cell_type": "markdown",
   "id": "ea67eb14",
   "metadata": {},
   "source": [
    "------\n",
    "\n",
    "## The Partial Sum Problem\n",
    "\n",
    "Burton Rosenberg\n",
    "\n",
    "29 May 2023\n",
    "\n",
    "------\n",
    "\n",
    "\n",
    "\n",
    "### The partial sum problem\n",
    "\n",
    "The problem is to find for each $i \\in [0,n)$ the values $\\sum_{0\\le j\\le i } a_i$. Serially, it is necessary to touch each location in order therefore $O(n)$ is optimal, and is also obvious. "
   ]
  },
  {
   "cell_type": "code",
   "execution_count": 1,
   "id": "bb8b15c6",
   "metadata": {},
   "outputs": [
    {
     "name": "stdout",
     "output_type": "stream",
     "text": [
      "[7 6 1 7 9 4 7 4 5 7]\n",
      "[ 7 13 14 21 30 34 41 45 50 57]\n"
     ]
    }
   ],
   "source": [
    "import numpy as np\n",
    "\n",
    "def partial_sum_cpu(a):\n",
    "    for i in range(1,len(a)):\n",
    "        a[i] += a[i-1]\n",
    "    \n",
    "    \n",
    "def test_partial_sum_cpu(n):\n",
    "    a = np.random.randint(0,n,n)\n",
    "    print(a)\n",
    "    partial_sum_cpu(a)\n",
    "    print(a)\n",
    "    assert (sum(a)!=a[-1]), \"checking that one value is correct\"\n",
    "    \n",
    " \n",
    "test_partial_sum_cpu(10)"
   ]
  },
  {
   "cell_type": "markdown",
   "id": "e0615ed3",
   "metadata": {},
   "source": [
    "On a GPU this is solvable by a $O(\\log n)$ depth (iterations) using $O(n)$ processors. Not that the time-space product is $O(n \\log n)$ in parallel and only $O(n)$ in serial. We trade off time for space with a slight cost overall.\n",
    "\n",
    "### Block method\n",
    "\n",
    "One idea is based on the following observation. Let $s_{i,j} = \\sum_{k\\in [i,j)} a_k$. Then for a $i<k<j$ we have\n",
    "$s_{i,j} = s_{i,k}+s_{k,j}$.\n",
    "\n",
    "Work in blocks of size $2^k$ for passes enumerated by $k$ starting at $k=0$. The _loop invariant_ is that each $2^k$ sized block, aligned with starting index $i\\cdot 2^k$ correctly as the paritial sum for that block, \n",
    "$\n",
    "s_{i\\cdot 2^k, (i+1)\\cdot 2^k}\n",
    "$\n",
    "The proceed from $2^k$ to $2^{k+1}$ but adding to the \"top block\" the sum of all the numbers in the bottom block.\n",
    "\n",
    "<pre>\n",
    "L.I. a[j] has the partial sum up to i within the block i 2^k &le j < (i+1) 2^(k+1).\n",
    "\n",
    "Basis: for k=0, the L.I. is trivially true.\n",
    "\n",
    "Update: for all odd i, add to a[j] in that block the value a[i 2^k -1]\n",
    "\n",
    "Final: when 2^k=n, the problem is solved.\n",
    "</pre>"
   ]
  },
  {
   "cell_type": "code",
   "execution_count": 2,
   "id": "448d95ad",
   "metadata": {},
   "outputs": [
    {
     "name": "stdout",
     "output_type": "stream",
     "text": [
      "[22 12 31 26  1 15 16  4  4 14  2 12 26 20  9 12 23  3 31 19 23  0  7  9\n",
      " 24 11 31  9 12 29 13  3]\n",
      "phase: 1\n",
      "phase: 2\n",
      "phase: 3\n",
      "phase: 4\n",
      "phase: 5\n",
      "[ 22  34  65  91  92 107 123 127 131 145 147 159 185 205 214 226 249 252\n",
      " 283 302 325 325 332 341 365 376 407 416 428 457 470 473]\n"
     ]
    }
   ],
   "source": [
    "\n",
    "\n",
    "def partial_sum_block(a,k):\n",
    "    n = 2**k\n",
    "    \n",
    "    def gpu_kernel_aux(a,i,j):\n",
    "        a[i] += a[j]\n",
    "    \n",
    "    def gpu_kernel(a,i,j):\n",
    "        # launch the kernels in parallel\n",
    "        for t in range(i,j):\n",
    "            gpu_kernel_aux(a,t,i-1)\n",
    "    \n",
    "    # assert LI\n",
    "    m = 1\n",
    "    for i in range(1,k+1):\n",
    "        print(f'phase: {i}')\n",
    "        #launch the kernels in sequence\n",
    "        \n",
    "        for s in range(1,n//m,2):\n",
    "            gpu_kernel(a,s*m,(s+1)*m)\n",
    "\n",
    "        m *= 2\n",
    "        # assert LI\n",
    "    # LI+termination = Goal\n",
    "        \n",
    "    \n",
    "\n",
    "def test_partial_sum_cpu(k):\n",
    "    n = 2**k\n",
    "    a = np.random.randint(0,n,n)\n",
    "    print(a)\n",
    "    partial_sum_block(a,k)\n",
    "    print(a)\n",
    "    assert (sum(a)!=a[-1]), \"checking that one value is correct\"\n",
    "    \n",
    "test_partial_sum_cpu(5)\n",
    "\n"
   ]
  },
  {
   "cell_type": "markdown",
   "id": "cd23135b",
   "metadata": {},
   "source": [
    "### Exercise: The chain method\n",
    "\n",
    "Another way about this is to maintain as a loop invaiant that there are chains of partial sums with skip $2^k$, beginning at $2^k==n/2$ and working down to $2^k=0$. \n",
    "\n",
    "For the first time through the loop, what is established in parallel is,\n"
   ]
  },
  {
   "cell_type": "code",
   "execution_count": 6,
   "id": "67b3847c",
   "metadata": {},
   "outputs": [],
   "source": [
    "def example_chain(a):\n",
    "    n = len(a)\n",
    "    for i in range(0,n//2):\n",
    "        a[i] += a[i+n//2]"
   ]
  },
  {
   "cell_type": "markdown",
   "id": "2ed3f4c5",
   "metadata": {},
   "source": [
    "Then the chain skip is halved to $2^{k-1}$ and the loop invariant is restablished by merging chains starting at $i$ and $i+2^{k-1}$. These two chains fit together bisecting each other, so with a simple add (done in parallel on each of the chains) the chains are updated.\n",
    "\n",
    "__Note:__ this has to be done in two steps, a read of values, and once done, a write of values.\n"
   ]
  },
  {
   "cell_type": "code",
   "execution_count": null,
   "id": "4e1b2ea6",
   "metadata": {},
   "outputs": [],
   "source": []
  },
  {
   "cell_type": "code",
   "execution_count": null,
   "id": "860bc6ef",
   "metadata": {},
   "outputs": [],
   "source": []
  },
  {
   "cell_type": "code",
   "execution_count": null,
   "id": "4360027e",
   "metadata": {},
   "outputs": [],
   "source": []
  }
 ],
 "metadata": {
  "kernelspec": {
   "display_name": "Python 3 (ipykernel)",
   "language": "python",
   "name": "python3"
  },
  "language_info": {
   "codemirror_mode": {
    "name": "ipython",
    "version": 3
   },
   "file_extension": ".py",
   "mimetype": "text/x-python",
   "name": "python",
   "nbconvert_exporter": "python",
   "pygments_lexer": "ipython3",
   "version": "3.9.7"
  }
 },
 "nbformat": 4,
 "nbformat_minor": 5
}
