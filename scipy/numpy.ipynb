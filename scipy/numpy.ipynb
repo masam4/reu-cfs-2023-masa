{
 "cells": [
  {
   "cell_type": "markdown",
   "metadata": {},
   "source": [
    "## The Numpy Library\n",
    "\n",
    "----\n",
    "\n",
    "Burton Rosenberg\n",
    "\n",
    "University of Miami\n",
    "\n",
    "copyright 2023 burton rosenberg all rights reserved\n",
    "\n",
    "\n",
    "----\n",
    "\n",
    "### Table of contents.\n",
    "\n",
    "1. <a href=\"#introduction\">Introduction</a>\n",
    "1. <a href=\"#features\">Numpy features</a>\n",
    "1. <a href=\"#import\">Importing</a>\n",
    "1. <a href=\"#making\">Making numpy arrays</a>\n",
    "1. <a href=\"#operation\">Operations on ndarrays</a>\n",
    "1. <a href=\"#shape\">Shaping ndarrays</a>\n",
    "1. <a href=\"#views\">No copy views</a>\n",
    "1. <a href=\"#broadcasting\">Broadcasting</a>\n",
    "1. <a href=\"#fancy\">Fancy Indexing and Boolean Masks</a>\n",
    "1. <a href=\"#matplotlib\">A tiny bit of Matplotlib</a>\n",
    "\n",
    "\n",
    "### <a name=introduction>Introduction</a>\n",
    "\n",
    "\n",
    "Python is being used increasingly as a language for scientific computing because of its qualities as a programing language and because of community developed libraries extending the langauges abilities. One concern with using a powerful language like Python is that it loses the efficiency of languages which run \"closer to the metal\", although the analogy should be \"closer to the silicon\". For instance, programs written in C can be very efficient to run but they are not efficient to code. C codes slowly and requires extreme attention to detail.\n",
    "\n",
    "The SciPy initiative attempts to solve this efficiency gap, and present powerful, efficient libraries of Python code for scientific programing. Some of these libraries are written in C to truely extend the way the language represents and manipulates data. These abilities are brought into your programs using an _import_ statement, naming a package or module that contains definitions. These then become avaiable for use in your program.\n",
    "\n",
    "SciPy includes NumPy for numeric arrays, MatPlotLib for making graphs, and Pandas for tabularizing and cleaning data. In this page we talk about NumPy. The entire scipy library is described at [scipy.org](https://www.scipy.org/). One might also look at the [scipy-lectures](http://www.scipy-lectures.org/index.html) tutoral.\n",
    "\n",
    "### <a name=\"features\">Numpy features</a>\n",
    "\n",
    "\n",
    "NumPy introduces the class _ndarray_, a multi-dimensional array of numbers. The ndarray improves on the list for efficiency and the collection methods it supports. That includes the notion of _universal functions_ and _broadcasting_. These concepts and methods make it very intuitive to us arrays for scientific computation. \n",
    " \n",
    " \n",
    "Numpy arrays support:\n",
    "\n",
    "* Element-wise operations;\n",
    "* Indexing operations based on strides;\n",
    "* No-copy views when reshaping, when possible;\n",
    "* Fast arrays based on a direct C-like representation;\n",
    "* Broadcasting;\n",
    "* Ufuncts for arithmetic, logical, and common functions;\n",
    "* Masking and fancy indexing\n",
    "\n",
    "See the [numpy reference](https://numpy.org/doc/stable/reference/routines.html)\n",
    "\n",
    "\n",
    "\n",
    "\n"
   ]
  },
  {
   "cell_type": "markdown",
   "metadata": {},
   "source": [
    "### <a name=\"import\">Importing</a>\n",
    "\n",
    "Libraries, such as numpy, are made known to your namespace with an `import` statement.\n",
    "The statement names the module, and the run-time searches for it given its known libarary path. What exactly is found is either a [package](https://docs.python.org/3/glossary.html#term-package) or a [module](https://docs.python.org/3/glossary.html#term-module).\n",
    "\n",
    "_Note:_ If an import fails, either the module is not on the platform and needs to be installed, or the search path does not include the location where the module resides. \n",
    "Importing the `sys` object has interesting properties, such as `sys.path`, the contain a list of paths for the search of libraries.\n",
    "\n",
    "The [import system](https://docs.python.org/3/reference/import.html) adds names either the to the current name space, or makes a new namespace for all the names in the library. The syntax `import numpy as np` means that a new namespace is created, calls `np`, and it is filled with all the names in the numpy module.\n",
    "\n",
    "Once done, a numpy function, such as `array`, is accessed as `np.array`, the dot here being a namespace selection operator.\n"
   ]
  },
  {
   "cell_type": "code",
   "execution_count": 1,
   "metadata": {},
   "outputs": [
    {
     "name": "stdout",
     "output_type": "stream",
     "text": [
      "My system path is,\n",
      "\t/Users/ojo/git/reu-cfs-2023/scipy\n",
      "\t/opt/anaconda3/lib/python39.zip\n",
      "\t/opt/anaconda3/lib/python3.9\n",
      "\t/opt/anaconda3/lib/python3.9/lib-dynload\n",
      "\t\n",
      "\t/opt/anaconda3/lib/python3.9/site-packages\n",
      "\t/opt/anaconda3/lib/python3.9/site-packages/aeosa\n",
      "\t/opt/anaconda3/lib/python3.9/site-packages/locket-0.2.1-py3.9.egg\n",
      "\t/opt/anaconda3/lib/python3.9/site-packages/IPython/extensions\n",
      "\t/Users/ojo/.ipython\n",
      "Some properties of np:\n",
      "\tname: \"numpy\"\n",
      "\ttype: <class 'module'>,\n",
      "\tpath: ['/opt/anaconda3/lib/python3.9/site-packages/numpy']\n"
     ]
    }
   ],
   "source": [
    "import sys\n",
    "print(f'My system path is,')\n",
    "for p in sys.path:\n",
    "    print(f'\\t{p}')\n",
    "   \n",
    "\n",
    "import numpy as np\n",
    "print(f'Some properties of np:\\n\\tname: \"{np.__name__}\"\\n\\ttype: {type(np)},\\n\\tpath: {np.__path__}')"
   ]
  },
  {
   "cell_type": "markdown",
   "metadata": {},
   "source": [
    "### <a name=\"making\">The ndarray</a>\n",
    "\n",
    "The basic data structure of numpy is the `ndarray`. In fact, it is a native C array, with enough of a Python wrapper so that it fits in with the Python object system. The flexibility of the Python list has a lot of machinery that is not needed when the list is known to be a list of floats. In which case, the simple memory model of C is more efficient.\n",
    "\n",
    "In C, an array of $n$ elements each requiring $b$ bytes is a sequence of $n\\,b$ bytes. An array is somewhat synoymous with the address of the first of these bytes. Then the i-th element in the array is found beginning at byte number $a+i*b$, where $a$ is the address of the array. An `ndarray` stores numerical arrays as does C.\n",
    "\n",
    "\n"
   ]
  },
  {
   "cell_type": "code",
   "execution_count": 2,
   "metadata": {},
   "outputs": [
    {
     "name": "stdout",
     "output_type": "stream",
     "text": [
      "type: <class 'numpy.ndarray'>, element type: <class 'numpy.float32'>, shape: (3,)\n"
     ]
    }
   ],
   "source": [
    "a = np.array([1,2,3],dtype=np.float32)\n",
    "\n",
    "print(f'type: {type(a)}, element type: {type(a[0])}, shape: {a.shape}')"
   ]
  },
  {
   "cell_type": "markdown",
   "metadata": {},
   "source": [
    "Here are some ways, to create `ndarray`s."
   ]
  },
  {
   "cell_type": "code",
   "execution_count": 3,
   "metadata": {},
   "outputs": [
    {
     "name": "stdout",
     "output_type": "stream",
     "text": [
      "list: [0 1 2 3 4 5 6 7 8 9]\n",
      "zeros: [0. 0. 0. 0. 0. 0. 0. 0. 0. 0.]\n",
      "ones: [1. 1. 1. 1. 1. 1. 1. 1. 1. 1.]\n",
      "randoms:  [0.62391851 0.84760886 0.12754124 0.09748217 0.58978673 0.93217075\n",
      " 0.66363331 0.87028652 0.36924044 0.5726382 ]\n",
      "randint:  [2 7 9 0 1 4 5 7 1 1]\n",
      "normal:  [ 0.83521344  1.77580812 -0.08296707  0.65790729  1.11483602  0.51694952\n",
      "  1.20904525  0.88675381  1.14044014  1.32026147], avg: 0.9374248005183962\n",
      "constant: [0.5 0.5 0.5 0.5 0.5 0.5 0.5 0.5 0.5 0.5]\n",
      "range: [0.  0.5 1.  1.5 2.  2.5 3.  3.5 4.  4.5 5.  5.5 6.  6.5 7.  7.5 8.  8.5\n",
      " 9.  9.5]\n"
     ]
    }
   ],
   "source": [
    "n = 10\n",
    "mean = 1.0\n",
    "sd = 0.5\n",
    "\n",
    "from_a_list = np.array([i for i in range(n)])\n",
    "from_zeros = np.zeros(n)\n",
    "from_ones = np.ones(n)\n",
    "from_constant = np.full(n,sd)\n",
    "from_random = np.random.random(n) # length for uniform from [0,1)\n",
    "from_randint = np.random.randint(0,10,n) # low, high, length\n",
    "\n",
    "# dtype optional parameter\n",
    "from_arange = np.arange(0,n,sd,dtype=np.float64)   # start, stop, step\n",
    "\n",
    "\n",
    "from_normal = np.random.normal(mean,sd,n)\n",
    "\n",
    "print(f'list: {from_a_list}')\n",
    "print(f'zeros: {from_zeros}')\n",
    "print(f'ones: {from_ones}')\n",
    "print(f'randoms:  {from_random}')\n",
    "print(f'randint:  {from_randint}')\n",
    "print(f'normal:  {from_normal}, avg: {sum(from_normal)/len(from_normal)}')\n",
    "print(f'constant: {from_constant}')\n",
    "print(f'range: {from_arange}')\n",
    "\n"
   ]
  },
  {
   "cell_type": "markdown",
   "metadata": {},
   "source": [
    "### <a name=\"operation\">Operations on ndarrays</a>\n",
    "\n",
    "The ndarray works like a vector with scalar operations that apply elementwise. \n",
    "Two ndarrays of the same shape are operated on elementwise.\n",
    "The elementwise operations also so included boolean value functions.\n",
    "\n"
   ]
  },
  {
   "cell_type": "code",
   "execution_count": 4,
   "metadata": {},
   "outputs": [
    {
     "name": "stdout",
     "output_type": "stream",
     "text": [
      "a = [0 1 2 3 4]\n",
      "a+2 = [2 3 4 5 6]\n",
      "a*3 = [ 0  3  6  9 12]\n",
      "a-3a = [ 0 -2 -4 -6 -8]\n",
      "a^2 = [ 0  1  4  9 16]\n",
      "a>2? [False False False  True  True]\n"
     ]
    }
   ],
   "source": [
    "import math \n",
    "\n",
    "a = np.arange(5)\n",
    "i = 2\n",
    "j = 3\n",
    "print(f'a = {a}\\na+{i} = {a+i}\\na*{j} = {a*j}')\n",
    "print(f'a-{j}a = {a-j*a}')\n",
    "print(f'a^2 = {a*a}')\n",
    "\n",
    "print(f'a>{i}? {a>i}')"
   ]
  },
  {
   "cell_type": "markdown",
   "metadata": {},
   "source": [
    "Special versions of operations work as _ufuncts_ on ndarrays, including any, all, min, max, sum, and math functions"
   ]
  },
  {
   "cell_type": "code",
   "execution_count": 5,
   "metadata": {},
   "outputs": [
    {
     "name": "stdout",
     "output_type": "stream",
     "text": [
      "max: 4\n",
      "they are all small\n",
      "length of a = 5.47723\n",
      "are any odd? False\n",
      "are any divisible by six? True\n",
      "sin of those values: [ 0.          0.84147098  0.90929743  0.14112001 -0.7568025 ]\n"
     ]
    }
   ],
   "source": [
    "a = np.arange(5)\n",
    "print(f'max: {np.max(a)}')\n",
    "if np.all(a<=np.max(a)):\n",
    "    print('they are all small')\n",
    "\n",
    "# dot product\n",
    "print(f'length of a = {math.sqrt(np.sum(a*a)):.5f}')\n",
    "\n",
    "a = np.array([i for i in range(n)])\n",
    "any_odd_is = np.all(a%2==0)\n",
    "print(f'are any odd? {any_odd_is}')\n",
    "any_divsix_is= np.any(a%6==0)\n",
    "print(f'are any divisible by six? {any_divsix_is}')\n",
    "print(f'sin of those values: {np.sin(a[:len(a)//2])}')"
   ]
  },
  {
   "cell_type": "markdown",
   "metadata": {},
   "source": [
    "### <a name=\"shape\">Shaping ndarrays</a>\n",
    "\n",
    "The array shape is a tuple, stored in the `shape` property and set by the `reshape` method. It can also be reshaped by writing into the `shape` property.\n",
    "\n",
    "Note the notation of a one-tuple, e.g.`(3,)`. The comma is needed to indicate this is a tuple, not a parenthesized integer."
   ]
  },
  {
   "cell_type": "code",
   "execution_count": 6,
   "metadata": {},
   "outputs": [
    {
     "name": "stdout",
     "output_type": "stream",
     "text": [
      "shape: (9,), a: [0 1 2 3 4 5 6 7 8]\n",
      "shape: (3, 3),a: \n",
      "[[0 1 2]\n",
      " [3 4 5]\n",
      " [6 7 8]]\n",
      "a: [0 1 2 3 4 5 6 7 8]\n",
      "shape: (3, 3), a:\n",
      "[[0 1 2]\n",
      " [3 4 5]\n",
      " [6 7 8]]\n"
     ]
    }
   ],
   "source": [
    "a = np.arange(9)\n",
    "print(f'shape: {a.shape}, a: {a}')\n",
    "b = a.reshape((3,3))\n",
    "print(f'shape: {b.shape},a: \\n{b}\\na: {a}')\n",
    "a.shape = (3,3)\n",
    "print(f'shape: {a.shape}, a:\\n{a}')"
   ]
  },
  {
   "cell_type": "markdown",
   "metadata": {},
   "source": [
    "### <a name=\"views\">No copy views</a>\n",
    "\n",
    "The wrapper around the C array that makes in `ndarray` supports _views_, while using slice notation to create the view. A view is an alternative way to look at the same array. It is called a no copy view, because slices do a shallow copy, and so for an array, a slice would make two separate copies of the list. \n"
   ]
  },
  {
   "cell_type": "code",
   "execution_count": 7,
   "metadata": {},
   "outputs": [
    {
     "name": "stdout",
     "output_type": "stream",
     "text": [
      "slicing a list:\n",
      "l1: [0, 1, 2, -1, 4, 5, 6, 7, 8, 9]\n",
      "l2: [0, 1, 2, 3, 4, 5, 6, 7, 8, 9]\n"
     ]
    }
   ],
   "source": [
    "# shallow copy slices\n",
    "l1 = [i for i in range(10)]\n",
    "l2 = l1[:]\n",
    "l1[3] = -1\n",
    "print(f'slicing a list:\\nl1: {l1}\\nl2: {l2}')\n",
    " "
   ]
  },
  {
   "cell_type": "code",
   "execution_count": 8,
   "metadata": {},
   "outputs": [
    {
     "name": "stdout",
     "output_type": "stream",
     "text": [
      "viewing an ndarray:\n",
      "l1: [ 0  1  2 -1  4  5  6  7  8  9]\n",
      "l2: [ 0  1  2 -1  4  5  6  7  8  9]\n"
     ]
    }
   ],
   "source": [
    "l1 = np.array([i for i in range(10)])\n",
    "l2 = l1[:]\n",
    "l1[3] = -1\n",
    "print(f'viewing an ndarray:\\nl1: {l1}\\nl2: {l2}')\n",
    " "
   ]
  },
  {
   "cell_type": "markdown",
   "metadata": {},
   "source": [
    "Even more complicated slices are views to the original array."
   ]
  },
  {
   "cell_type": "code",
   "execution_count": 9,
   "metadata": {},
   "outputs": [
    {
     "name": "stdout",
     "output_type": "stream",
     "text": [
      "a: [0 1 2 3 4 5 6 7 8 9]\n",
      "b: [0 2 4 6 8]\n",
      "b: [-1 -1 -1 -1 -1]\n",
      "a: [-1  1 -1  3 -1  5 -1  7 -1  9]\n"
     ]
    }
   ],
   "source": [
    "a = np.arange(10)\n",
    "print(f'a: {a}')\n",
    "b = a[::2]\n",
    "print(f'b: {b}')\n",
    "b.fill(-1)\n",
    "print(f'b: {b}')\n",
    "print(f'a: {a}')\n"
   ]
  },
  {
   "cell_type": "markdown",
   "metadata": {},
   "source": [
    "If you want a copy with slicing, use the `copy` method."
   ]
  },
  {
   "cell_type": "code",
   "execution_count": 10,
   "metadata": {},
   "outputs": [
    {
     "name": "stdout",
     "output_type": "stream",
     "text": [
      "a: [0 1 2 3 4 5 6 7 8 9]\n",
      "b: [0 2 4 6 8]\n",
      "b: [ 0 -2 -4 -6 -8]\n",
      "a: [0 1 2 3 4 5 6 7 8 9]]\n"
     ]
    }
   ],
   "source": [
    "a = np.arange(10)\n",
    "print(f'a: {a}')\n",
    "b = a[::2].copy()\n",
    "print(f'b: {b}')\n",
    "b = -1 * b\n",
    "print(f'b: {b}')\n",
    "print(f'a: {a}]')"
   ]
  },
  {
   "cell_type": "markdown",
   "metadata": {},
   "source": [
    "### <a name=\"broadcasting\">Broadcasting</a>\n",
    "\n",
    "When numpy operates on two ndarrays of different shapes, it attempts to promote them to a common, compatible shape. As new cells are created, this is done by copying respective values from the existing shape. \n",
    "\n",
    "#### Example: (1,) and (3,)\n",
    "\n",
    "When adding a scalar to a vector whose shapes are (1,) and (3,), the scalar is promoted to (3,) while duplicating its value; then the addition is done.\n"
   ]
  },
  {
   "cell_type": "code",
   "execution_count": 11,
   "metadata": {},
   "outputs": [
    {
     "name": "stdout",
     "output_type": "stream",
     "text": [
      "[4] plus [1 2 3] equals [5 6 7]\n"
     ]
    }
   ],
   "source": [
    "scalar = np.array([4])\n",
    "vector = np.array([1,2,3])\n",
    "print(f'{scalar} plus {vector} equals {scalar+vector}')"
   ]
  },
  {
   "cell_type": "markdown",
   "metadata": {},
   "source": [
    "#### Example (3,) and (2,3)\n",
    "\n",
    "When adding vector to a matrix whose shapes are (3,) and (2,3), the vector is promoted to (3,2) and the new row is a copy of the old row. This happens in two steps,\n",
    "\n",
    "1. Promote the dimension 1 shape (3,) to the dimension 2 shape (1,3)\n",
    "1. Promote the shape (1,3) to shape (2,3)b\n"
   ]
  },
  {
   "cell_type": "code",
   "execution_count": 12,
   "metadata": {},
   "outputs": [
    {
     "name": "stdout",
     "output_type": "stream",
     "text": [
      "[1 2 3]\n",
      "+\n",
      "[[1 2 3]\n",
      " [4 5 6]]\n",
      "=\n",
      "[[2 4 6]\n",
      " [5 7 9]]\n"
     ]
    }
   ],
   "source": [
    "vector = np.array([1,2,3])\n",
    "matrix = np.array([1,2,3,4,5,6]).reshape((2,3))\n",
    "print(f'{vector}\\n+\\n{matrix}\\n=\\n{vector+ matrix}')\n"
   ]
  },
  {
   "cell_type": "markdown",
   "metadata": {},
   "source": [
    "#### Example (3,) and (1,3)\n",
    "\n",
    "When adding vector to a row vector whose shapes are (3,) and (1,3), the both vectors are promoted to (3,3). In each case the values are broadcast.\n",
    "\n",
    "This happens in three steps,\n",
    "\n",
    "1. Promote the dimension 1 shape (3,) to the dimension 2 shape (1,3)\n",
    "1. Promote the shape (1,3) to shape (3,3) by broadcast\n",
    "1. Promote the dimension 1 shape (1,3) to shape (3,3) by broadcast\n",
    "\n",
    "Note the dimesions. A row vector is consided by numpy to be dimension 2."
   ]
  },
  {
   "cell_type": "code",
   "execution_count": 13,
   "metadata": {},
   "outputs": [
    {
     "name": "stdout",
     "output_type": "stream",
     "text": [
      "a: shape: (3,), dimensions: 1\n",
      "b: shape: (3, 1), dimensions: 2\n",
      "\n",
      "broadcast [1 0 1] to (3,3):\n",
      "[[1. 0. 1.]\n",
      " [1. 0. 1.]\n",
      " [1. 0. 1.]]\n",
      "\n",
      "broadcast\n",
      "[[-1]\n",
      " [ 0]\n",
      " [-1]]\n",
      "to (3,3):\n",
      "[[-1. -1. -1.]\n",
      " [ 0.  0.  0.]\n",
      " [-1. -1. -1.]]\n",
      "\n",
      "adding:\n",
      "[[ 0 -1  0]\n",
      " [ 1  0  1]\n",
      " [ 0 -1  0]]\n"
     ]
    }
   ],
   "source": [
    "a = np.array([1,0,1])\n",
    "b = np.array([[-1],[0],[-1]])\n",
    "\n",
    "print(f'a: shape: {a.shape}, dimensions: {a.ndim}')\n",
    "print(f'b: shape: {b.shape}, dimensions: {b.ndim}')\n",
    "\n",
    "print(f'\\nbroadcast {a} to (3,3):\\n{a+np.zeros((3,3))}')\n",
    "print(f'\\nbroadcast\\n{b}\\nto (3,3):\\n{b+np.zeros((3,3))}')\n",
    "print(f'\\nadding:\\n{a+b}')\n"
   ]
  },
  {
   "cell_type": "markdown",
   "metadata": {},
   "source": [
    "#### General shape1 and shape2\n",
    "\n",
    "- If the shapes have different dimensions, add sufficiet 1's on the left of the shape of lower dimension until the shapes have the same dimension.\n",
    "- For shapes the the same dimension, if in any dimension both values are not one and unequal, stop. \n",
    "- Else, broadcast across the other dimensions of the shape with dimension 1 to make it the dimension of the other shape.\n",
    "\n",
    "\n",
    "#### Broadcast in action\n",
    "\n",
    "The rules make several common operations easy. The library provides a general vector-matrix multiplication called `dot`, (or `vdot` when a hermitian product is required). However this is how it can be done by broadcasting.\n"
   ]
  },
  {
   "cell_type": "code",
   "execution_count": 14,
   "metadata": {},
   "outputs": [
    {
     "name": "stdout",
     "output_type": "stream",
     "text": [
      "[14 32 50]\n",
      "True\n"
     ]
    }
   ],
   "source": [
    "def matrix_vector_mult(m, v):\n",
    "    return np.array([np.sum(row) for row in m*v])\n",
    "\n",
    "v = np.array([1,2,3])\n",
    "m = np.array([1,2,3,4,5,6,7,8,9]).reshape((3,3))\n",
    "\n",
    "m_v = matrix_vector_mult(m,v)\n",
    "print(f'{m_v}\\n{np.all(m_v == np.dot(m,v))}')"
   ]
  },
  {
   "cell_type": "markdown",
   "metadata": {},
   "source": [
    "### <a name=\"fancy\">Fancy Indexing and Boolean Masks</a>\n",
    "\n",
    "Ndarrays also support _fancy indexing_, where a new ndarray is created from a list, or ndarray of indices. If from an ndarray, the resulting view of has the shape of the indexing ndarray.\n",
    "\n",
    "The list or ndarray can be an array of booleans, in which case the corresponding element is in the view only when the boolean is true.\n",
    "\n",
    "_Note:_ Ndarrays also support list-like indices. So `a[i][j]` can be written `a[i,j]`.\n"
   ]
  },
  {
   "cell_type": "code",
   "execution_count": 51,
   "metadata": {},
   "outputs": [
    {
     "name": "stdout",
     "output_type": "stream",
     "text": [
      "a:\n",
      "[8 7 6 5 4 3 2 1 0]\n",
      "idx:\n",
      "[[0 2]\n",
      " [4 6]]\n",
      "b:\n",
      "[[8 6]\n",
      " [4 2]]\n",
      "t:\n",
      "[False False  True False False  True False False  True]\n",
      "c:\n",
      "[6 3 0]\n"
     ]
    }
   ],
   "source": [
    "a = np.arange(9)[::-1]\n",
    "idx = (np.arange(4)*2).reshape((2,2))\n",
    "b = a[idx]\n",
    "print(f'a:\\n{a}\\nidx:\\n{idx}\\nb:\\n{b}')\n",
    "\n",
    "t = a%3==0\n",
    "c = a[t]\n",
    "print(f't:\\n{t}\\nc:\\n{c}')\n"
   ]
  },
  {
   "cell_type": "markdown",
   "metadata": {},
   "source": [
    "### <a name=\"matplotlib\">A tiny bit of Matplotlib</a>"
   ]
  },
  {
   "cell_type": "code",
   "execution_count": 52,
   "metadata": {},
   "outputs": [
    {
     "data": {
      "image/png": "[encoded data removed]",
      "text/plain": [
       "<Figure size 432x288 with 1 Axes>"
      ]
     },
     "metadata": {
      "needs_background": "light"
     },
     "output_type": "display_data"
    }
   ],
   "source": [
    "import matplotlib.pyplot as plt\n",
    "%matplotlib inline\n",
    "\n",
    "def f(t):\n",
    "     return np.exp(-t) * np.cos(2*np.pi*t)\n",
    "\n",
    "t1 = np.arange(0.0, 5.0, 0.02)\n",
    "plt.plot(t1, f(t1), 'k')\n",
    "plt.ylabel(\"Example 3\")\n",
    "plt.show()\n"
   ]
  },
  {
   "cell_type": "code",
   "execution_count": null,
   "metadata": {},
   "outputs": [],
   "source": []
  }
 ],
 "metadata": {
  "kernelspec": {
   "display_name": "Python 3 (ipykernel)",
   "language": "python",
   "name": "python3"
  },
  "language_info": {
   "codemirror_mode": {
    "name": "ipython",
    "version": 3
   },
   "file_extension": ".py",
   "mimetype": "text/x-python",
   "name": "python",
   "nbconvert_exporter": "python",
   "pygments_lexer": "ipython3",
   "version": "3.9.7"
  }
 },
 "nbformat": 4,
 "nbformat_minor": 4
}
